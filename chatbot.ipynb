{
 "cells": [
  {
   "cell_type": "code",
   "execution_count": 125,
   "id": "694cd7fa-1877-46dc-99ff-25795801afb9",
   "metadata": {
    "tags": []
   },
   "outputs": [],
   "source": [
    "import pandas as pd\n",
    "from openai import OpenAI\n",
    "import json"
   ]
  },
  {
   "cell_type": "markdown",
   "id": "c6ebdc92-68aa-4e5d-8bde-f298e1e608ff",
   "metadata": {},
   "source": [
    "### Initialize OpenAI"
   ]
  },
  {
   "cell_type": "code",
   "execution_count": 53,
   "id": "e20d7a22-54ad-43f8-80ec-9815ba6adaa4",
   "metadata": {
    "tags": []
   },
   "outputs": [],
   "source": [
    "openai_client = OpenAI(api_key='PUT YOUR KEY HERE')"
   ]
  },
  {
   "cell_type": "markdown",
   "id": "36f2f112-25e1-4e87-bf51-cd9a0f3cd82f",
   "metadata": {},
   "source": [
    "### Read the data"
   ]
  },
  {
   "cell_type": "code",
   "execution_count": 71,
   "id": "e3364a30-8b18-4ded-90e8-0eee09c43ac8",
   "metadata": {
    "tags": []
   },
   "outputs": [],
   "source": [
    "data = pd.read_json(\"./intents.json\")"
   ]
  },
  {
   "cell_type": "code",
   "execution_count": 72,
   "id": "75b86a30-ae52-4132-b009-f860c2279fa6",
   "metadata": {
    "tags": []
   },
   "outputs": [
    {
     "data": {
      "text/html": [
       "<div>\n",
       "<style scoped>\n",
       "    .dataframe tbody tr th:only-of-type {\n",
       "        vertical-align: middle;\n",
       "    }\n",
       "\n",
       "    .dataframe tbody tr th {\n",
       "        vertical-align: top;\n",
       "    }\n",
       "\n",
       "    .dataframe thead th {\n",
       "        text-align: right;\n",
       "    }\n",
       "</style>\n",
       "<table border=\"1\" class=\"dataframe\">\n",
       "  <thead>\n",
       "    <tr style=\"text-align: right;\">\n",
       "      <th></th>\n",
       "      <th>intents</th>\n",
       "    </tr>\n",
       "  </thead>\n",
       "  <tbody>\n",
       "    <tr>\n",
       "      <th>0</th>\n",
       "      <td>{'tag': 'Cuts', 'patterns': ['What to do if Cu...</td>\n",
       "    </tr>\n",
       "    <tr>\n",
       "      <th>1</th>\n",
       "      <td>{'tag': 'Abrasions', 'patterns': ['how do you ...</td>\n",
       "    </tr>\n",
       "    <tr>\n",
       "      <th>2</th>\n",
       "      <td>{'tag': 'stings', 'patterns': ['How do you tre...</td>\n",
       "    </tr>\n",
       "    <tr>\n",
       "      <th>3</th>\n",
       "      <td>{'tag': 'Splinter', 'patterns': ['How to remov...</td>\n",
       "    </tr>\n",
       "    <tr>\n",
       "      <th>4</th>\n",
       "      <td>{'tag': 'Sprains', 'patterns': ['How do you tr...</td>\n",
       "    </tr>\n",
       "    <tr>\n",
       "      <th>5</th>\n",
       "      <td>{'tag': 'Strains', 'patterns': ['How do you tr...</td>\n",
       "    </tr>\n",
       "    <tr>\n",
       "      <th>6</th>\n",
       "      <td>{'tag': 'Fever', 'patterns': ['How do you trea...</td>\n",
       "    </tr>\n",
       "    <tr>\n",
       "      <th>7</th>\n",
       "      <td>{'tag': 'Nasal Congestion', 'patterns': ['How ...</td>\n",
       "    </tr>\n",
       "    <tr>\n",
       "      <th>8</th>\n",
       "      <td>{'tag': 'Cough', 'patterns': ['How to cure cou...</td>\n",
       "    </tr>\n",
       "    <tr>\n",
       "      <th>9</th>\n",
       "      <td>{'tag': 'Sore Throat', 'patterns': ['How do yo...</td>\n",
       "    </tr>\n",
       "    <tr>\n",
       "      <th>10</th>\n",
       "      <td>{'tag': 'Gastrointestinal problems', 'patterns...</td>\n",
       "    </tr>\n",
       "    <tr>\n",
       "      <th>11</th>\n",
       "      <td>{'tag': 'Skin problems', 'patterns': ['How do ...</td>\n",
       "    </tr>\n",
       "    <tr>\n",
       "      <th>12</th>\n",
       "      <td>{'tag': 'Abdonominal Pain', 'patterns': ['How ...</td>\n",
       "    </tr>\n",
       "    <tr>\n",
       "      <th>13</th>\n",
       "      <td>{'tag': 'Bruises', 'patterns': ['How do you tr...</td>\n",
       "    </tr>\n",
       "    <tr>\n",
       "      <th>14</th>\n",
       "      <td>{'tag': 'Broken Toe', 'patterns': ['How do you...</td>\n",
       "    </tr>\n",
       "    <tr>\n",
       "      <th>15</th>\n",
       "      <td>{'tag': 'Choking', 'patterns': ['How do you tr...</td>\n",
       "    </tr>\n",
       "    <tr>\n",
       "      <th>16</th>\n",
       "      <td>{'tag': 'Wound', 'patterns': ['How do you trea...</td>\n",
       "    </tr>\n",
       "    <tr>\n",
       "      <th>17</th>\n",
       "      <td>{'tag': 'Diarrhea', 'patterns': ['How do you t...</td>\n",
       "    </tr>\n",
       "    <tr>\n",
       "      <th>18</th>\n",
       "      <td>{'tag': 'Frost bite', 'patterns': ['How do you...</td>\n",
       "    </tr>\n",
       "    <tr>\n",
       "      <th>19</th>\n",
       "      <td>{'tag': 'Heat Exhaustion', 'patterns': ['How d...</td>\n",
       "    </tr>\n",
       "    <tr>\n",
       "      <th>20</th>\n",
       "      <td>{'tag': 'Heat Stroke', 'patterns': ['How do yo...</td>\n",
       "    </tr>\n",
       "    <tr>\n",
       "      <th>21</th>\n",
       "      <td>{'tag': 'Insect Bites', 'patterns': ['How do y...</td>\n",
       "    </tr>\n",
       "    <tr>\n",
       "      <th>22</th>\n",
       "      <td>{'tag': 'nose bleed', 'patterns': ['How do you...</td>\n",
       "    </tr>\n",
       "    <tr>\n",
       "      <th>23</th>\n",
       "      <td>{'tag': 'Pulled Muscle', 'patterns': ['How do ...</td>\n",
       "    </tr>\n",
       "    <tr>\n",
       "      <th>24</th>\n",
       "      <td>{'tag': 'Rectal bleeding', 'patterns': ['How d...</td>\n",
       "    </tr>\n",
       "    <tr>\n",
       "      <th>25</th>\n",
       "      <td>{'tag': 'Sun Burn', 'patterns': ['How do you t...</td>\n",
       "    </tr>\n",
       "    <tr>\n",
       "      <th>26</th>\n",
       "      <td>{'tag': 'Testicle Pain', 'patterns': ['How do ...</td>\n",
       "    </tr>\n",
       "    <tr>\n",
       "      <th>27</th>\n",
       "      <td>{'tag': 'Vertigo', 'patterns': ['How do you tr...</td>\n",
       "    </tr>\n",
       "    <tr>\n",
       "      <th>28</th>\n",
       "      <td>{'tag': 'Normal Bleeding', 'patterns': ['How d...</td>\n",
       "    </tr>\n",
       "    <tr>\n",
       "      <th>29</th>\n",
       "      <td>{'tag': 'Eye Injury', 'patterns': ['How do you...</td>\n",
       "    </tr>\n",
       "    <tr>\n",
       "      <th>30</th>\n",
       "      <td>{'tag': 'Chemical Burn', 'patterns': ['How do ...</td>\n",
       "    </tr>\n",
       "    <tr>\n",
       "      <th>31</th>\n",
       "      <td>{'tag': 'Poison', 'patterns': ['How do you tre...</td>\n",
       "    </tr>\n",
       "    <tr>\n",
       "      <th>32</th>\n",
       "      <td>{'tag': 'Teeth', 'patterns': ['How do you trea...</td>\n",
       "    </tr>\n",
       "    <tr>\n",
       "      <th>33</th>\n",
       "      <td>{'tag': 'seizure', 'patterns': ['How do you tr...</td>\n",
       "    </tr>\n",
       "    <tr>\n",
       "      <th>34</th>\n",
       "      <td>{'tag': 'Head Injury', 'patterns': ['How do yo...</td>\n",
       "    </tr>\n",
       "    <tr>\n",
       "      <th>35</th>\n",
       "      <td>{'tag': 'Fainting', 'patterns': ['How do you t...</td>\n",
       "    </tr>\n",
       "    <tr>\n",
       "      <th>36</th>\n",
       "      <td>{'tag': 'Headache', 'patterns': ['How do you t...</td>\n",
       "    </tr>\n",
       "    <tr>\n",
       "      <th>37</th>\n",
       "      <td>{'tag': 'Cold', 'patterns': ['How do you treat...</td>\n",
       "    </tr>\n",
       "    <tr>\n",
       "      <th>38</th>\n",
       "      <td>{'tag': 'Rash', 'patterns': ['How do you treat...</td>\n",
       "    </tr>\n",
       "    <tr>\n",
       "      <th>39</th>\n",
       "      <td>{'tag': 'snake bite', 'patterns': ['How do you...</td>\n",
       "    </tr>\n",
       "    <tr>\n",
       "      <th>40</th>\n",
       "      <td>{'tag': 'animal bite', 'patterns': ['How do yo...</td>\n",
       "    </tr>\n",
       "    <tr>\n",
       "      <th>41</th>\n",
       "      <td>{'tag': 'Drowning', 'patterns': ['What to do i...</td>\n",
       "    </tr>\n",
       "    <tr>\n",
       "      <th>42</th>\n",
       "      <td>{'tag': 'CPR', 'patterns': ['How to give CPR??...</td>\n",
       "    </tr>\n",
       "    <tr>\n",
       "      <th>43</th>\n",
       "      <td>{'tag': 'Fracture', 'patterns': ['How do you t...</td>\n",
       "    </tr>\n",
       "  </tbody>\n",
       "</table>\n",
       "</div>"
      ],
      "text/plain": [
       "                                              intents\n",
       "0   {'tag': 'Cuts', 'patterns': ['What to do if Cu...\n",
       "1   {'tag': 'Abrasions', 'patterns': ['how do you ...\n",
       "2   {'tag': 'stings', 'patterns': ['How do you tre...\n",
       "3   {'tag': 'Splinter', 'patterns': ['How to remov...\n",
       "4   {'tag': 'Sprains', 'patterns': ['How do you tr...\n",
       "5   {'tag': 'Strains', 'patterns': ['How do you tr...\n",
       "6   {'tag': 'Fever', 'patterns': ['How do you trea...\n",
       "7   {'tag': 'Nasal Congestion', 'patterns': ['How ...\n",
       "8   {'tag': 'Cough', 'patterns': ['How to cure cou...\n",
       "9   {'tag': 'Sore Throat', 'patterns': ['How do yo...\n",
       "10  {'tag': 'Gastrointestinal problems', 'patterns...\n",
       "11  {'tag': 'Skin problems', 'patterns': ['How do ...\n",
       "12  {'tag': 'Abdonominal Pain', 'patterns': ['How ...\n",
       "13  {'tag': 'Bruises', 'patterns': ['How do you tr...\n",
       "14  {'tag': 'Broken Toe', 'patterns': ['How do you...\n",
       "15  {'tag': 'Choking', 'patterns': ['How do you tr...\n",
       "16  {'tag': 'Wound', 'patterns': ['How do you trea...\n",
       "17  {'tag': 'Diarrhea', 'patterns': ['How do you t...\n",
       "18  {'tag': 'Frost bite', 'patterns': ['How do you...\n",
       "19  {'tag': 'Heat Exhaustion', 'patterns': ['How d...\n",
       "20  {'tag': 'Heat Stroke', 'patterns': ['How do yo...\n",
       "21  {'tag': 'Insect Bites', 'patterns': ['How do y...\n",
       "22  {'tag': 'nose bleed', 'patterns': ['How do you...\n",
       "23  {'tag': 'Pulled Muscle', 'patterns': ['How do ...\n",
       "24  {'tag': 'Rectal bleeding', 'patterns': ['How d...\n",
       "25  {'tag': 'Sun Burn', 'patterns': ['How do you t...\n",
       "26  {'tag': 'Testicle Pain', 'patterns': ['How do ...\n",
       "27  {'tag': 'Vertigo', 'patterns': ['How do you tr...\n",
       "28  {'tag': 'Normal Bleeding', 'patterns': ['How d...\n",
       "29  {'tag': 'Eye Injury', 'patterns': ['How do you...\n",
       "30  {'tag': 'Chemical Burn', 'patterns': ['How do ...\n",
       "31  {'tag': 'Poison', 'patterns': ['How do you tre...\n",
       "32  {'tag': 'Teeth', 'patterns': ['How do you trea...\n",
       "33  {'tag': 'seizure', 'patterns': ['How do you tr...\n",
       "34  {'tag': 'Head Injury', 'patterns': ['How do yo...\n",
       "35  {'tag': 'Fainting', 'patterns': ['How do you t...\n",
       "36  {'tag': 'Headache', 'patterns': ['How do you t...\n",
       "37  {'tag': 'Cold', 'patterns': ['How do you treat...\n",
       "38  {'tag': 'Rash', 'patterns': ['How do you treat...\n",
       "39  {'tag': 'snake bite', 'patterns': ['How do you...\n",
       "40  {'tag': 'animal bite', 'patterns': ['How do yo...\n",
       "41  {'tag': 'Drowning', 'patterns': ['What to do i...\n",
       "42  {'tag': 'CPR', 'patterns': ['How to give CPR??...\n",
       "43  {'tag': 'Fracture', 'patterns': ['How do you t..."
      ]
     },
     "execution_count": 72,
     "metadata": {},
     "output_type": "execute_result"
    }
   ],
   "source": [
    "data.head(50)"
   ]
  },
  {
   "cell_type": "code",
   "execution_count": 73,
   "id": "e93e5168-9b3f-4988-9cb0-d11725895e53",
   "metadata": {
    "tags": []
   },
   "outputs": [],
   "source": [
    "data = data['intents']"
   ]
  },
  {
   "cell_type": "code",
   "execution_count": 74,
   "id": "08903f4e-26c0-4e4f-aaa0-c34673922bc2",
   "metadata": {
    "tags": []
   },
   "outputs": [
    {
     "data": {
      "text/plain": [
       "44"
      ]
     },
     "execution_count": 74,
     "metadata": {},
     "output_type": "execute_result"
    }
   ],
   "source": [
    "len(data)"
   ]
  },
  {
   "cell_type": "code",
   "execution_count": 75,
   "id": "d181209e-8460-4358-9970-1d1401ddd3fe",
   "metadata": {
    "tags": []
   },
   "outputs": [],
   "source": [
    "train_data = pd.DataFrame(columns=['intent','patterns','response'])"
   ]
  },
  {
   "cell_type": "markdown",
   "id": "88ab80d5-12d4-45fe-91c3-1d01c740e4e1",
   "metadata": {},
   "source": [
    "### Making the data format bit readable"
   ]
  },
  {
   "cell_type": "code",
   "execution_count": 77,
   "id": "843d16cf-b0d4-461a-925b-9e56e8b56ef4",
   "metadata": {
    "tags": []
   },
   "outputs": [],
   "source": [
    "for index in data:\n",
    "        new_data = {'intent': index['tag'].lower(),'patterns': index['patterns'],'response':index['responses']}\n",
    "        train_data = train_data._append(new_data, ignore_index=True)"
   ]
  },
  {
   "cell_type": "markdown",
   "id": "91662980-5dc1-44fe-b4cc-deea1bf8882b",
   "metadata": {},
   "source": [
    "First prompt to begin the conversation in the bot"
   ]
  },
  {
   "cell_type": "code",
   "execution_count": 141,
   "id": "3b7bace2-3fe8-4a22-aac4-79581125138f",
   "metadata": {
    "tags": []
   },
   "outputs": [],
   "source": [
    "def initialize_conversation():\n",
    "    '''\n",
    "    Returns a list [{\"role\": \"system\", \"content\": system_message}]\n",
    "    '''\n",
    "\n",
    "    delimiter = \"####\"\n",
    "\n",
    "    health_issues_category = ['Cuts', 'Abrasions', 'stings', 'Splinter', 'Sprains', 'Strains',\n",
    "    'Fever', 'Nasal Congestion', 'Cough', 'Sore Throat',\n",
    "    'Gastrointestinal problems', 'Skin problems', 'Abdonominal Pain',\n",
    "    'Bruises', 'Broken Toe', 'Choking', 'Wound', 'Diarrhea',\n",
    "    'Frost bite', 'Heat Exhaustion', 'Heat Stroke', 'Insect Bites',\n",
    "    'nose bleed', 'Pulled Muscle', 'Rectal bleeding', 'Sun Burn',\n",
    "    'Testicle Pain', 'Vertigo', 'Normal Bleeding', 'Eye Injury',\n",
    "    'Chemical Burn', 'Poison', 'Teeth', 'seizure', 'Head Injury',\n",
    "    'Fainting', 'Headache', 'Cold', 'Rash', 'snake bite',\n",
    "    'animal bite', 'Drowning', 'CPR', 'Fracture']\n",
    "    \n",
    "    response_format = {'issue': '_'}\n",
    "\n",
    "    system_message = f\"\"\"\n",
    "    You are an intelligent healthcare expert and your goal is to find the health issue of the patient.\n",
    "    You need to ask relevant questions and understand the users issue by analysing the user's responses.\n",
    "    You final objective is to find the health issue and categorise them accordingly based on the {health_issues_category} values. The values must be based on these category or you will be heavily penalised.\n",
    "    The final response should in the {response_format} format with JSON value filled in the issue key. The response must be in JSON format with no additional text.\n",
    "    \n",
    "    To understand the users request and problems you need to have the following chain of thoughts:\n",
    "    Follow the chain-of-thoughts below and only output the final health issue. \\n\n",
    "    {delimiter}\n",
    "    Thought 1: Ask a question to understand the user's health issues. \\n\n",
    "    If the health issue is unclear. Ask followup questions to understand their issue little deeper.\n",
    "    categorise the health issues in that should present in the {health_issues_category}.\n",
    "    Remember the instructions around the values for the different health problems.\n",
    "    If the necessary information has been extracted, only then proceed to the next step. \\n\n",
    "    Otherwise, rephrase the question to capture their problems clearly. \\n\n",
    "    {delimiter}\n",
    "    Thought 2: Ask indirect questions to understand the health issues if user is not able to clarify clearly. \\n\n",
    "    Aslk questions relevant to {health_issues_category} and categorise the health issues which matches the issues present in {health_issues_category}.\n",
    "    If the necessary information has been extracted, only then proceed to the next step. \\n\n",
    "    Otherwise, rephrase the question to capture their problems clearly. \\n\n",
    "    {delimiter}\n",
    "    Here is a sample conversation between the user and assistant:\n",
    "    User: \"Hi, I am facing health issues.\"\n",
    "    Assistant: \"Sorry to hear that. Can you describe little further? do you have running nose? or cough? tell me more so that I can help you\"\n",
    "    User: \"I think i have cough but i am not sure\"\n",
    "    Assistant: \"Thank you for providing that information. Let me see what I can help you.\"\n",
    "    Assistant: \"{response_format}\"\n",
    "    {delimiter}\n",
    "\n",
    "    Start with a short welcome message and encourage the user to share their health issues.\n",
    "    \"\"\"\n",
    "    conversation = [{\"role\": \"system\", \"content\": system_message}]\n",
    "    return conversation"
   ]
  },
  {
   "cell_type": "code",
   "execution_count": 122,
   "id": "4b3b861f-8a40-4468-83a6-83a35e95e150",
   "metadata": {
    "tags": []
   },
   "outputs": [
    {
     "name": "stdout",
     "output_type": "stream",
     "text": [
      "[{'role': 'system', 'content': '\\n    You are an intelligent healthcare expert and your goal is to find the health issue of the patient.\\n    You need to ask relevant questions and understand the users issue by analysing the user\\'s responses.\\n    You final objective is to find the health issue and categorise them accordingly based on the [\\'Cuts\\', \\'Abrasions\\', \\'stings\\', \\'Splinter\\', \\'Sprains\\', \\'Strains\\', \\'Fever\\', \\'Nasal Congestion\\', \\'Cough\\', \\'Sore Throat\\', \\'Gastrointestinal problems\\', \\'Skin problems\\', \\'Abdonominal Pain\\', \\'Bruises\\', \\'Broken Toe\\', \\'Choking\\', \\'Wound\\', \\'Diarrhea\\', \\'Frost bite\\', \\'Heat Exhaustion\\', \\'Heat Stroke\\', \\'Insect Bites\\', \\'nose bleed\\', \\'Pulled Muscle\\', \\'Rectal bleeding\\', \\'Sun Burn\\', \\'Testicle Pain\\', \\'Vertigo\\', \\'Normal Bleeding\\', \\'Eye Injury\\', \\'Chemical Burn\\', \\'Poison\\', \\'Teeth\\', \\'seizure\\', \\'Head Injury\\', \\'Fainting\\', \\'Headache\\', \\'Cold\\', \\'Rash\\', \\'snake bite\\', \\'animal bite\\', \\'Drowning\\', \\'CPR\\', \\'Fracture\\'] values. The values must be based on these category or you will be heavily penalised.\\n    The final response should in the {\\'issue\\': \\'_\\'} format with JSON value filled in the issue key.\\n    \\n    To understand the users request and problems you need to have the following chain of thoughts:\\n    Follow the chain-of-thoughts below and only output the final health issue. \\n\\n    ####\\n    Thought 1: Ask a question to understand the user\\'s health issues. \\n\\n    If the health issue is unclear. Ask followup questions to understand their issue little deeper.\\n    categorise the health issues in that should present in the [\\'Cuts\\', \\'Abrasions\\', \\'stings\\', \\'Splinter\\', \\'Sprains\\', \\'Strains\\', \\'Fever\\', \\'Nasal Congestion\\', \\'Cough\\', \\'Sore Throat\\', \\'Gastrointestinal problems\\', \\'Skin problems\\', \\'Abdonominal Pain\\', \\'Bruises\\', \\'Broken Toe\\', \\'Choking\\', \\'Wound\\', \\'Diarrhea\\', \\'Frost bite\\', \\'Heat Exhaustion\\', \\'Heat Stroke\\', \\'Insect Bites\\', \\'nose bleed\\', \\'Pulled Muscle\\', \\'Rectal bleeding\\', \\'Sun Burn\\', \\'Testicle Pain\\', \\'Vertigo\\', \\'Normal Bleeding\\', \\'Eye Injury\\', \\'Chemical Burn\\', \\'Poison\\', \\'Teeth\\', \\'seizure\\', \\'Head Injury\\', \\'Fainting\\', \\'Headache\\', \\'Cold\\', \\'Rash\\', \\'snake bite\\', \\'animal bite\\', \\'Drowning\\', \\'CPR\\', \\'Fracture\\'].\\n    Remember the instructions around the values for the different health problems.\\n    If the necessary information has been extracted, only then proceed to the next step. \\n\\n    Otherwise, rephrase the question to capture their problems clearly. \\n\\n    ####\\n    Thought 2: Ask indirect questions to understand the health issues if user is not able to clarify clearly. \\n\\n    Aslk questions relevant to [\\'Cuts\\', \\'Abrasions\\', \\'stings\\', \\'Splinter\\', \\'Sprains\\', \\'Strains\\', \\'Fever\\', \\'Nasal Congestion\\', \\'Cough\\', \\'Sore Throat\\', \\'Gastrointestinal problems\\', \\'Skin problems\\', \\'Abdonominal Pain\\', \\'Bruises\\', \\'Broken Toe\\', \\'Choking\\', \\'Wound\\', \\'Diarrhea\\', \\'Frost bite\\', \\'Heat Exhaustion\\', \\'Heat Stroke\\', \\'Insect Bites\\', \\'nose bleed\\', \\'Pulled Muscle\\', \\'Rectal bleeding\\', \\'Sun Burn\\', \\'Testicle Pain\\', \\'Vertigo\\', \\'Normal Bleeding\\', \\'Eye Injury\\', \\'Chemical Burn\\', \\'Poison\\', \\'Teeth\\', \\'seizure\\', \\'Head Injury\\', \\'Fainting\\', \\'Headache\\', \\'Cold\\', \\'Rash\\', \\'snake bite\\', \\'animal bite\\', \\'Drowning\\', \\'CPR\\', \\'Fracture\\'] and categorise the health issues which matches the issues present in [\\'Cuts\\', \\'Abrasions\\', \\'stings\\', \\'Splinter\\', \\'Sprains\\', \\'Strains\\', \\'Fever\\', \\'Nasal Congestion\\', \\'Cough\\', \\'Sore Throat\\', \\'Gastrointestinal problems\\', \\'Skin problems\\', \\'Abdonominal Pain\\', \\'Bruises\\', \\'Broken Toe\\', \\'Choking\\', \\'Wound\\', \\'Diarrhea\\', \\'Frost bite\\', \\'Heat Exhaustion\\', \\'Heat Stroke\\', \\'Insect Bites\\', \\'nose bleed\\', \\'Pulled Muscle\\', \\'Rectal bleeding\\', \\'Sun Burn\\', \\'Testicle Pain\\', \\'Vertigo\\', \\'Normal Bleeding\\', \\'Eye Injury\\', \\'Chemical Burn\\', \\'Poison\\', \\'Teeth\\', \\'seizure\\', \\'Head Injury\\', \\'Fainting\\', \\'Headache\\', \\'Cold\\', \\'Rash\\', \\'snake bite\\', \\'animal bite\\', \\'Drowning\\', \\'CPR\\', \\'Fracture\\'].\\n    If the necessary information has been extracted, only then proceed to the next step. \\n\\n    Otherwise, rephrase the question to capture their problems clearly. \\n\\n    ####\\n    Here is a sample conversation between the user and assistant:\\n    User: \"Hi, I am facing health issues.\"\\n    Assistant: \"Sorry to hear that. Can you describe little further? do you have running nose? or cough? tell me more so that I can help you\"\\n    User: \"I think i have cough but i am not sure\"\\n    Assistant: \"Thank you for providing that information. Let me see what I can help you.\"\\n    Assistant: \"{\\'issue\\': \\'_\\'}\"\\n    ####\\n\\n    Start with a short welcome message and encourage the user to share their health issues.\\n    '}]\n"
     ]
    }
   ],
   "source": [
    "debug_conversation = initialize_conversation()\n",
    "print(debug_conversation)"
   ]
  },
  {
   "cell_type": "code",
   "execution_count": 123,
   "id": "f6a05bbf-4e30-4991-b207-55129d655944",
   "metadata": {
    "tags": []
   },
   "outputs": [
    {
     "name": "stdout",
     "output_type": "stream",
     "text": [
      "\n",
      "    You are an intelligent healthcare expert and your goal is to find the health issue of the patient.\n",
      "    You need to ask relevant questions and understand the users issue by analysing the user's responses.\n",
      "    You final objective is to find the health issue and categorise them accordingly based on the ['Cuts', 'Abrasions', 'stings', 'Splinter', 'Sprains', 'Strains', 'Fever', 'Nasal Congestion', 'Cough', 'Sore Throat', 'Gastrointestinal problems', 'Skin problems', 'Abdonominal Pain', 'Bruises', 'Broken Toe', 'Choking', 'Wound', 'Diarrhea', 'Frost bite', 'Heat Exhaustion', 'Heat Stroke', 'Insect Bites', 'nose bleed', 'Pulled Muscle', 'Rectal bleeding', 'Sun Burn', 'Testicle Pain', 'Vertigo', 'Normal Bleeding', 'Eye Injury', 'Chemical Burn', 'Poison', 'Teeth', 'seizure', 'Head Injury', 'Fainting', 'Headache', 'Cold', 'Rash', 'snake bite', 'animal bite', 'Drowning', 'CPR', 'Fracture'] values. The values must be based on these category or you will be heavily penalised.\n",
      "    The final response should in the {'issue': '_'} format with JSON value filled in the issue key.\n",
      "    \n",
      "    To understand the users request and problems you need to have the following chain of thoughts:\n",
      "    Follow the chain-of-thoughts below and only output the final health issue. \n",
      "\n",
      "    ####\n",
      "    Thought 1: Ask a question to understand the user's health issues. \n",
      "\n",
      "    If the health issue is unclear. Ask followup questions to understand their issue little deeper.\n",
      "    categorise the health issues in that should present in the ['Cuts', 'Abrasions', 'stings', 'Splinter', 'Sprains', 'Strains', 'Fever', 'Nasal Congestion', 'Cough', 'Sore Throat', 'Gastrointestinal problems', 'Skin problems', 'Abdonominal Pain', 'Bruises', 'Broken Toe', 'Choking', 'Wound', 'Diarrhea', 'Frost bite', 'Heat Exhaustion', 'Heat Stroke', 'Insect Bites', 'nose bleed', 'Pulled Muscle', 'Rectal bleeding', 'Sun Burn', 'Testicle Pain', 'Vertigo', 'Normal Bleeding', 'Eye Injury', 'Chemical Burn', 'Poison', 'Teeth', 'seizure', 'Head Injury', 'Fainting', 'Headache', 'Cold', 'Rash', 'snake bite', 'animal bite', 'Drowning', 'CPR', 'Fracture'].\n",
      "    Remember the instructions around the values for the different health problems.\n",
      "    If the necessary information has been extracted, only then proceed to the next step. \n",
      "\n",
      "    Otherwise, rephrase the question to capture their problems clearly. \n",
      "\n",
      "    ####\n",
      "    Thought 2: Ask indirect questions to understand the health issues if user is not able to clarify clearly. \n",
      "\n",
      "    Aslk questions relevant to ['Cuts', 'Abrasions', 'stings', 'Splinter', 'Sprains', 'Strains', 'Fever', 'Nasal Congestion', 'Cough', 'Sore Throat', 'Gastrointestinal problems', 'Skin problems', 'Abdonominal Pain', 'Bruises', 'Broken Toe', 'Choking', 'Wound', 'Diarrhea', 'Frost bite', 'Heat Exhaustion', 'Heat Stroke', 'Insect Bites', 'nose bleed', 'Pulled Muscle', 'Rectal bleeding', 'Sun Burn', 'Testicle Pain', 'Vertigo', 'Normal Bleeding', 'Eye Injury', 'Chemical Burn', 'Poison', 'Teeth', 'seizure', 'Head Injury', 'Fainting', 'Headache', 'Cold', 'Rash', 'snake bite', 'animal bite', 'Drowning', 'CPR', 'Fracture'] and categorise the health issues which matches the issues present in ['Cuts', 'Abrasions', 'stings', 'Splinter', 'Sprains', 'Strains', 'Fever', 'Nasal Congestion', 'Cough', 'Sore Throat', 'Gastrointestinal problems', 'Skin problems', 'Abdonominal Pain', 'Bruises', 'Broken Toe', 'Choking', 'Wound', 'Diarrhea', 'Frost bite', 'Heat Exhaustion', 'Heat Stroke', 'Insect Bites', 'nose bleed', 'Pulled Muscle', 'Rectal bleeding', 'Sun Burn', 'Testicle Pain', 'Vertigo', 'Normal Bleeding', 'Eye Injury', 'Chemical Burn', 'Poison', 'Teeth', 'seizure', 'Head Injury', 'Fainting', 'Headache', 'Cold', 'Rash', 'snake bite', 'animal bite', 'Drowning', 'CPR', 'Fracture'].\n",
      "    If the necessary information has been extracted, only then proceed to the next step. \n",
      "\n",
      "    Otherwise, rephrase the question to capture their problems clearly. \n",
      "\n",
      "    ####\n",
      "    Here is a sample conversation between the user and assistant:\n",
      "    User: \"Hi, I am facing health issues.\"\n",
      "    Assistant: \"Sorry to hear that. Can you describe little further? do you have running nose? or cough? tell me more so that I can help you\"\n",
      "    User: \"I think i have cough but i am not sure\"\n",
      "    Assistant: \"Thank you for providing that information. Let me see what I can help you.\"\n",
      "    Assistant: \"{'issue': '_'}\"\n",
      "    ####\n",
      "\n",
      "    Start with a short welcome message and encourage the user to share their health issues.\n",
      "    \n"
     ]
    }
   ],
   "source": [
    "print(debug_conversation[0]['content'])"
   ]
  },
  {
   "cell_type": "markdown",
   "id": "93d50fe3-f3ae-4617-966f-2d0a326f4119",
   "metadata": {},
   "source": [
    "### OpenAI call for the chat completions"
   ]
  },
  {
   "cell_type": "code",
   "execution_count": 329,
   "id": "44e69fd2-26b6-445e-b38f-bbe09fe3ba1e",
   "metadata": {
    "tags": []
   },
   "outputs": [],
   "source": [
    "# Define a Chat Completions API call\n",
    "def get_chat_completions(input):\n",
    "        MODEL = 'gpt-3.5-turbo'\n",
    "        chat_completion = openai_client.chat.completions.create(\n",
    "            model = MODEL,\n",
    "            messages = input,\n",
    "            seed = 2345)\n",
    "        output = chat_completion.choices[0].message.content\n",
    "        return output"
   ]
  },
  {
   "cell_type": "code",
   "execution_count": 18,
   "id": "816426e4-ab3c-4ad7-9897-28b6f1484133",
   "metadata": {
    "tags": []
   },
   "outputs": [],
   "source": [
    "input_prompt ='What is the capital of France?'\n",
    "messages = [{'role':'user','content':input_prompt}]"
   ]
  },
  {
   "cell_type": "code",
   "execution_count": 54,
   "id": "d5f86bc4-d6a8-4fc9-a43c-c1b7ff0a3b04",
   "metadata": {
    "tags": []
   },
   "outputs": [
    {
     "data": {
      "text/plain": [
       "'The capital of France is Paris.'"
      ]
     },
     "execution_count": 54,
     "metadata": {},
     "output_type": "execute_result"
    }
   ],
   "source": [
    "get_chat_completions(messages)"
   ]
  },
  {
   "cell_type": "markdown",
   "id": "ff0abcf0-120f-4931-be85-f879469b859e",
   "metadata": {},
   "source": [
    "### Moderation check for the bad messages"
   ]
  },
  {
   "cell_type": "code",
   "execution_count": 48,
   "id": "004dfa1c-9ffa-4981-9021-453bf19a191a",
   "metadata": {
    "tags": []
   },
   "outputs": [],
   "source": [
    "def moderation_check(user_input):\n",
    "    # Call the OpenAI API to perform moderation on the user's input.\n",
    "    response = openai_client.moderations.create(input=user_input)\n",
    "\n",
    "    # Extract the moderation result from the API response.\n",
    "    moderation_output = response.results[0].flagged\n",
    "    # Check if the input was flagged by the moderation system.\n",
    "    if response.results[0].flagged == True:\n",
    "        # If flagged, return \"Flagged\"\n",
    "        return \"Flagged\"\n",
    "    else:\n",
    "        # If not flagged, return \"Not Flagged\"\n",
    "        return \"Not Flagged\""
   ]
  },
  {
   "cell_type": "markdown",
   "id": "7f82c594-13a0-461f-bad2-afa93dd8aea4",
   "metadata": {},
   "source": [
    "### Find out the solution as described by the doctors for the health issues"
   ]
  },
  {
   "cell_type": "code",
   "execution_count": 321,
   "id": "c0693022-3597-4463-be61-6655333df99e",
   "metadata": {
    "tags": []
   },
   "outputs": [],
   "source": [
    "def suggest_health_solution(intent):\n",
    "    data = None\n",
    "    try:\n",
    "        json_data = json.loads(intent)\n",
    "        if 'issue' in json_data:            \n",
    "            checkIntent = json_data['issue'].lower() in train_data['intent'].values\n",
    "            if(checkIntent):\n",
    "                #we found the intent from chatbot, lets retrieve and show the result\n",
    "                data_1 = train_data[train_data['intent'] == json_data['issue'].lower()]['response']\n",
    "                data = data_1[data_1.index[0]][0]\n",
    "                return data\n",
    "        else:\n",
    "            return data\n",
    "    except ValueError as e:\n",
    "        print(e)\n",
    "        return data"
   ]
  },
  {
   "cell_type": "markdown",
   "id": "cd217200-dc6c-44db-a8d6-9f69c5613e6c",
   "metadata": {},
   "source": [
    "### check if dictionary is present in the text and extract it "
   ]
  },
  {
   "cell_type": "code",
   "execution_count": 259,
   "id": "628f1f38-ed64-46f5-a0b6-921886aca2fa",
   "metadata": {
    "tags": []
   },
   "outputs": [],
   "source": [
    "def dictionary_present(response):\n",
    "    delimiter = \"####\"\n",
    "\n",
    "    data_format = {\"issue\": \"cough\"}\n",
    "\n",
    "    prompt = f\"\"\"You are a python expert. You are provided an input.\n",
    "            You have to check if there is a python dictionary present in the string.\n",
    "            It will have the following format {data_format}.\n",
    "            Your task is to just extract the relevant values from the input and return only the python dictionary in JSON format with double quotes in keys and values.\n",
    "            The output should match the format as {data_format}.\n",
    "\n",
    "            {delimiter}\n",
    "            The output should contain the exact keys and values as present in the input.\n",
    "            Here are some sample input output pairs for better understanding:\n",
    "            {delimiter}\n",
    "            input 1: - Thank you for clarifying. Based on your symptom of running nose without sore throat or cough, it seems like you may have Nasal Congestion. {{'issue': 'Nasal Congestion'}}\n",
    "            output 1: {{\"issue\": \"Nasal Congestion\"}}\n",
    "\n",
    "            input 2: - Thank you for clarifying. Based on your symptom of fever without sore throat or cough, it seems like you may have fever. {{'issue': 'Fever'}}\n",
    "            output 2: {{\"issue\": \"Fever\"}}\n",
    "            {delimiter}\n",
    "            \"\"\"\n",
    "    messages = [{\"role\": \"system\", \"content\":prompt },\n",
    "                {\"role\": \"user\", \"content\":f\"\"\"Here is the user input: {response}\"\"\" }]\n",
    "\n",
    "    confirmation = get_chat_completions(messages)\n",
    "\n",
    "    return confirmation"
   ]
  },
  {
   "cell_type": "code",
   "execution_count": 260,
   "id": "fce0c25b-9633-44e2-af9c-ae25309bdd87",
   "metadata": {
    "tags": []
   },
   "outputs": [],
   "source": [
    "string_dict = \"Thank you for clarifying. Based on your symptom of running nose without sore throat or cough, it seems like you may have Nasal Congestion.{'issue': 'Nasal Congestion'}\"\"\"\n",
    "check_dict = dictionary_present(string_dict)"
   ]
  },
  {
   "cell_type": "code",
   "execution_count": 261,
   "id": "9d45c009-cf7b-4b94-a39a-3c3c4b041aaa",
   "metadata": {
    "tags": []
   },
   "outputs": [
    {
     "data": {
      "text/plain": [
       "'{\"issue\": \"Nasal Congestion\"}'"
      ]
     },
     "execution_count": 261,
     "metadata": {},
     "output_type": "execute_result"
    }
   ],
   "source": [
    "check_dict"
   ]
  },
  {
   "cell_type": "markdown",
   "id": "a237c47d-fe8d-447e-9236-be30a60d36fb",
   "metadata": {},
   "source": [
    "### Dialogue management system for the bot"
   ]
  },
  {
   "cell_type": "code",
   "execution_count": 330,
   "id": "05ee8622-ea2c-4102-a79f-e4587b16b552",
   "metadata": {
    "tags": []
   },
   "outputs": [],
   "source": [
    "def dialogue_mgmt_system():\n",
    "    conversation = initialize_conversation()\n",
    "\n",
    "    introduction = get_chat_completions(conversation)\n",
    "\n",
    "    display(introduction + '\\n')\n",
    "    \n",
    "    user_input = ''\n",
    "\n",
    "    while(user_input != \"exit\"):\n",
    "        user_input = input(\"\")\n",
    "\n",
    "        moderation = moderation_check(user_input)\n",
    "        if moderation == 'Flagged':\n",
    "            display(\"Sorry, this message has been flagged. Please restart your conversation.\")\n",
    "            break\n",
    "            \n",
    "        conversation.append({\"role\": \"user\", \"content\": user_input})\n",
    "        response_assistant = get_chat_completions(conversation)\n",
    "        moderation = moderation_check(response_assistant)\n",
    "        if moderation == 'Flagged':\n",
    "            display(\"Sorry, this message has been flagged. Please restart your conversation.\")\n",
    "            break\n",
    "        print('Please wait while we understand the problem...\\n')\n",
    "        ## if json present in the text, extract it\n",
    "        extract_json = dictionary_present(response_assistant)\n",
    "        ## check if the issue is actually found yet\n",
    "        confirmation = suggest_health_solution(extract_json)\n",
    "        if(confirmation is None):\n",
    "            ## issue not found, ask more questions to understand the intent\n",
    "            print(response_assistant)\n",
    "            conversation.append({\"role\": \"assistant\", \"content\": str(response_assistant)})\n",
    "        else:\n",
    "            ## print the health solutions\n",
    "            print(str(confirmation) + '\\n')"
   ]
  },
  {
   "cell_type": "code",
   "execution_count": 280,
   "id": "a11e4c3a-4aef-412a-ad68-f03a757d3779",
   "metadata": {
    "tags": []
   },
   "outputs": [
    {
     "data": {
      "text/plain": [
       "'Hello! I am here to help you with your health issues. Please feel free to share any problems or concerns you may have. What health issue are you currently facing?\\n'"
      ]
     },
     "metadata": {},
     "output_type": "display_data"
    },
    {
     "name": "stdin",
     "output_type": "stream",
     "text": [
      " i have a health issue\n"
     ]
    },
    {
     "name": "stdout",
     "output_type": "stream",
     "text": [
      "Please wait while we understand the problem...\n",
      "\n",
      "Sorry to hear that. Can you please describe your symptoms or health issue in more detail? Are you experiencing any specific symptoms such as cough, fever, sore throat, or any other discomfort? Please share so that I can assist you better.\n"
     ]
    },
    {
     "name": "stdin",
     "output_type": "stream",
     "text": [
      " i think its high fever\n"
     ]
    },
    {
     "name": "stdout",
     "output_type": "stream",
     "text": [
      "Please wait while we understand the problem...\n",
      "\n",
      "To treat a fever at home: 1)Drink plenty of fluids to stay hydrated. 2)Dress in lightweight clothing. 3)Use a light blanket if you feel chilled, until the chills end. 4)Take acetaminophen (Tylenol, others) or ibuprofen (Advil, Motrin IB, others). 5) Get medical help if the fever lasts more than five days in a row.\n",
      "\n"
     ]
    },
    {
     "name": "stdin",
     "output_type": "stream",
     "text": [
      " i am also sneezing\n"
     ]
    },
    {
     "name": "stdout",
     "output_type": "stream",
     "text": [
      "Please wait while we understand the problem...\n",
      "\n",
      "1)Keeping hydrated is absolutely vital to help 'flush' out the cold, as well as to break down congestion and keep your throat lubricated. 2)Vitamin C is extremely helpful when fighting infection, so at the first sign of a cold be sure to increase your intake by eating plenty of berries, citrus fruits, papayas, broccoli and red peppers which will help keep you protected. 3)When it comes to combating a cold,Vitamin D is essential in helping to regulate immune response.\n",
      "\n"
     ]
    },
    {
     "name": "stdin",
     "output_type": "stream",
     "text": [
      " do you have some list of doctors?\n"
     ]
    },
    {
     "name": "stdout",
     "output_type": "stream",
     "text": [
      "Please wait while we understand the problem...\n",
      "\n",
      "Sorry, I can only assist you in identifying your health issue based on the symptoms you provide. Can you please tell me if you are experiencing any other symptoms related to your health concern such as body pain, headache, chills, or any other discomfort? This will help me determine the possible health issue you might be facing.\n"
     ]
    },
    {
     "name": "stdin",
     "output_type": "stream",
     "text": [
      " exit\n"
     ]
    },
    {
     "name": "stdout",
     "output_type": "stream",
     "text": [
      "Please wait while we understand the problem...\n",
      "\n",
      "{'issue': 'Fever and Nasal Congestion'}\n"
     ]
    }
   ],
   "source": [
    "dialogue_mgmt_system()"
   ]
  },
  {
   "cell_type": "code",
   "execution_count": null,
   "id": "ccae9ca1-0f63-445a-a9aa-6084fdd3a6dc",
   "metadata": {},
   "outputs": [],
   "source": []
  },
  {
   "cell_type": "code",
   "execution_count": null,
   "id": "ef90de60-591c-4f5d-87cd-ac56c2dbe647",
   "metadata": {},
   "outputs": [],
   "source": []
  },
  {
   "cell_type": "code",
   "execution_count": null,
   "id": "bc9f8a33-c30e-4a13-8beb-e548906cc720",
   "metadata": {},
   "outputs": [],
   "source": []
  },
  {
   "cell_type": "markdown",
   "id": "d9ec4175-d718-432a-9760-50fc5afd7ef5",
   "metadata": {},
   "source": [
    "## Function calling example, it does not suit my use case at the moment"
   ]
  },
  {
   "cell_type": "code",
   "execution_count": 322,
   "id": "fb4f8f41-5425-4a9a-9c9d-33a30df0f2d6",
   "metadata": {
    "tags": []
   },
   "outputs": [],
   "source": [
    "function_descriptions = [\n",
    "    {\n",
    "        \"name\": \"get_doctors_list\",\n",
    "        \"description\": \"Get list of doctors if bot can't solve a problem\",\n",
    "        \"parameters\": {\n",
    "            \"type\": \"object\",\n",
    "            \"properties\": {\n",
    "                \"issue\": {\n",
    "                    \"type\": \"string\",\n",
    "                    \"description\": \"The health issue to be solved\",\n",
    "                }\n",
    "            },\n",
    "            \"required\": [\"issue\"],\n",
    "        },\n",
    "    }\n",
    "]"
   ]
  },
  {
   "cell_type": "code",
   "execution_count": 323,
   "id": "2326d95c-c9cb-495b-af32-bc2e3d414047",
   "metadata": {
    "tags": []
   },
   "outputs": [],
   "source": [
    "\n",
    "def get_chat_completions_functions(input):\n",
    "        MODEL = 'gpt-3.5-turbo-0613'\n",
    "        chat_completion = openai_client.chat.completions.create(\n",
    "            model = MODEL,\n",
    "            messages = input,\n",
    "            functions=function_descriptions,\n",
    "            function_call=\"auto\",\n",
    "            seed = 2345)\n",
    "        output = chat_completion.choices[0].message\n",
    "        return output"
   ]
  },
  {
   "cell_type": "code",
   "execution_count": 324,
   "id": "d068677a-82a2-4b09-a8b4-9b230669e978",
   "metadata": {
    "tags": []
   },
   "outputs": [],
   "source": [
    "output = get_chat_completions_functions([{\"role\": \"user\", \"content\": \"I think i have cuts\"}])"
   ]
  },
  {
   "cell_type": "code",
   "execution_count": 325,
   "id": "87e3d720-4845-44aa-a8eb-98912f90747e",
   "metadata": {
    "tags": []
   },
   "outputs": [
    {
     "data": {
      "text/plain": [
       "ChatCompletionMessage(content=None, role='assistant', function_call=FunctionCall(arguments='{\\n\"issue\": \"cuts\"\\n}', name='get_doctors_list'), tool_calls=None)"
      ]
     },
     "execution_count": 325,
     "metadata": {},
     "output_type": "execute_result"
    }
   ],
   "source": [
    "output"
   ]
  },
  {
   "cell_type": "code",
   "execution_count": 326,
   "id": "65daac7d-18cd-4b24-b22c-beba3d786e02",
   "metadata": {
    "tags": []
   },
   "outputs": [
    {
     "name": "stdout",
     "output_type": "stream",
     "text": [
      "{'issue': 'cuts'}\n"
     ]
    }
   ],
   "source": [
    "issue = json.loads(output.function_call.arguments).get(\"issue\")\n",
    "params = json.loads(output.function_call.arguments)\n",
    "type(params)\n",
    "print(params)\n",
    "\n",
    "# Call the function with arguments\n",
    "\n",
    "chosen_function = eval(output.function_call.name)\n",
    "data = chosen_function(**params)"
   ]
  },
  {
   "cell_type": "code",
   "execution_count": 327,
   "id": "f1369782-2c01-46ac-96e7-e9a57e2c0875",
   "metadata": {
    "tags": []
   },
   "outputs": [
    {
     "data": {
      "text/plain": [
       "'Dr shahid shaikh'"
      ]
     },
     "execution_count": 327,
     "metadata": {},
     "output_type": "execute_result"
    }
   ],
   "source": [
    "data"
   ]
  },
  {
   "cell_type": "code",
   "execution_count": 292,
   "id": "22a20c78-74dd-4d0b-a17a-fc233567bd0f",
   "metadata": {
    "tags": []
   },
   "outputs": [],
   "source": [
    "def get_doctors_list(issue):\n",
    "    return \"Dr shahid shaikh\""
   ]
  },
  {
   "cell_type": "code",
   "execution_count": null,
   "id": "260c7339-3012-4719-9cb3-92a29525562a",
   "metadata": {},
   "outputs": [],
   "source": []
  }
 ],
 "metadata": {
  "kernelspec": {
   "display_name": "Python 3 (ipykernel)",
   "language": "python",
   "name": "python3"
  },
  "language_info": {
   "codemirror_mode": {
    "name": "ipython",
    "version": 3
   },
   "file_extension": ".py",
   "mimetype": "text/x-python",
   "name": "python",
   "nbconvert_exporter": "python",
   "pygments_lexer": "ipython3",
   "version": "3.10.13"
  }
 },
 "nbformat": 4,
 "nbformat_minor": 5
}
